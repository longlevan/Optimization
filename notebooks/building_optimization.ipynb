{
 "metadata": {
  "name": ""
 },
 "nbformat": 3,
 "nbformat_minor": 0,
 "worksheets": [
  {
   "cells": [
    {
     "cell_type": "code",
     "collapsed": false,
     "input": [
      "import sys\n",
      "import pandas as pd\n",
      "sys.path.append(\"/home/docker/data/Optimization/\")\n",
      "from matplotlib import pyplot as plt\n",
      "import numpy as np\n",
      "%matplotlib inline"
     ],
     "language": "python",
     "metadata": {},
     "outputs": []
    },
    {
     "cell_type": "code",
     "collapsed": false,
     "input": [
      "from collections import OrderedDict\n",
      "from building_opt import building_opt as bui"
     ],
     "language": "python",
     "metadata": {},
     "outputs": []
    },
    {
     "cell_type": "code",
     "collapsed": false,
     "input": [
      "# Define the parameters for the different cases\n",
      "pars_A = OrderedDict([(\"A_s\", 0.9), (\"A_n\", 0.0), (\"A_e\", 0.1), (\"A_w\", 0.0), (\"P_solar\", 6.0e5)])\n",
      "pars_B = OrderedDict([(\"A_s\", 0.7), (\"A_n\", 0.0), (\"A_e\", 0.15), (\"A_w\", 0.15), (\"P_solar\", 5.5e5)])\n",
      "pars_C = OrderedDict([(\"A_s\", 0.7), (\"A_n\", 0.0), (\"A_e\", 0.3), (\"A_w\", 0.0), (\"P_solar\", 4.5e5)])\n",
      "\n",
      "# Run the simulations using the different parametrizations\n",
      "sim_res_ctrl = bui.run_simulation('ElectricNetwork.SingleBuildingElectricCtrl', P_hvac = 0.0, P_batt = 0.0)\n",
      "sim_res = bui.run_simulation('ElectricNetwork.SingleBuildingElectric', P_hvac = -2.0e5, P_batt = 0.0)\n",
      "sim_res_pv = bui.run_simulation('ElectricNetwork.SingleBuildingElectricPV', P_hvac = -2.0e5, P_batt = 0.0)\n",
      "sim_A_res_ctrl_pv = bui.run_simulation('ElectricNetwork.SingleBuildingElectricCtrlPV', P_hvac = 0.0, P_batt = 0.0, fixpars = pars_A)\n",
      "sim_B_res_ctrl_pv = bui.run_simulation('ElectricNetwork.SingleBuildingElectricCtrlPV', P_hvac = 0.0, P_batt = 0.0, fixpars = pars_B)\n",
      "sim_C_res_ctrl_pv = bui.run_simulation('ElectricNetwork.SingleBuildingElectricCtrlPV', P_hvac = 0.0, P_batt = 0.0, fixpars = pars_C)"
     ],
     "language": "python",
     "metadata": {},
     "outputs": []
    },
    {
     "cell_type": "code",
     "collapsed": false,
     "input": [
      "sim_res_ctrl_relay = bui.run_simulation('ElectricNetwork.SingleBuildingElectricCtrlRelay', P_hvac = 0.0, P_batt = 0.0)"
     ],
     "language": "python",
     "metadata": {},
     "outputs": []
    },
    {
     "cell_type": "code",
     "collapsed": false,
     "input": [
      "bui.plot_sim_res(sim_res_ctrl)\n",
      "bui.plot_sim_res(sim_res_ctrl_relay)\n",
      "bui.plot_sim_res(sim_res)"
     ],
     "language": "python",
     "metadata": {},
     "outputs": []
    },
    {
     "cell_type": "code",
     "collapsed": false,
     "input": [
      "plt.plot(sim_res_ctrl[\"time\"], sim_res_ctrl[\"S_pow\"], 'c')\n",
      "\n",
      "plt.plot(sim_A_res_ctrl_pv[\"time\"], sim_A_res_ctrl_pv[\"S_pow\"], \"b\")\n",
      "plt.plot(sim_A_res_ctrl_pv[\"time\"], sim_A_res_ctrl_pv[\"pv.P\"], \"g\")\n",
      "plt.plot(sim_B_res_ctrl_pv[\"time\"], sim_B_res_ctrl_pv[\"S_pow\"], \"b--\")\n",
      "plt.plot(sim_B_res_ctrl_pv[\"time\"], sim_B_res_ctrl_pv[\"pv.P\"], \"g--\")\n",
      "plt.plot(sim_C_res_ctrl_pv[\"time\"], sim_C_res_ctrl_pv[\"S_pow\"], \"b+\")\n",
      "plt.plot(sim_C_res_ctrl_pv[\"time\"], sim_C_res_ctrl_pv[\"pv.P\"], \"g+\")\n",
      "\n",
      "sim_res_ctrl[\"Money\"][-1]"
     ],
     "language": "python",
     "metadata": {},
     "outputs": []
    },
    {
     "cell_type": "code",
     "collapsed": false,
     "input": [
      "plt.plot(sim_res_ctrl_relay[\"time\"], sim_res_ctrl_relay[\"u[1]\"], 'r')\n",
      "plt.plot(sim_res_ctrl_relay[\"time\"], sim_res_ctrl_relay[\"P_m2\"], 'b')"
     ],
     "language": "python",
     "metadata": {},
     "outputs": []
    },
    {
     "cell_type": "code",
     "collapsed": false,
     "input": [
      "opt_res_energy = bui.run_optimization(sim_res, \"ElectricNetwork.BuildingMngmtOpt_E\", n_e = 24)"
     ],
     "language": "python",
     "metadata": {},
     "outputs": []
    },
    {
     "cell_type": "code",
     "collapsed": false,
     "input": [
      "plt.plot(opt_res_energy[\"time\"], opt_res_energy[\"P_hvac\"], \"r\")\n",
      "plt.plot(sim_res_ctrl[\"time\"], sim_res_ctrl[\"Pctrl\"], 'c')"
     ],
     "language": "python",
     "metadata": {},
     "outputs": []
    },
    {
     "cell_type": "code",
     "collapsed": false,
     "input": [
      "plt.plot(opt_res_energy[\"time\"], opt_res_energy[\"S_pow\"], 'c')\n",
      "plt.plot(sim_res_ctrl[\"time\"], sim_res_ctrl[\"S_pow\"], 'r')\n",
      "plt.plot(sim_res_ctrl_relay[\"time\"], sim_res_ctrl_relay[\"S_pow\"], 'r--')\n",
      "print opt_res_energy[\"E\"][-1]\n",
      "print sim_res_ctrl[\"E\"][-1]\n",
      "print sim_res_ctrl_relay[\"E\"][-1]\n",
      "print 1e-12*np.dot(opt_res_energy[\"P_hvac\"], opt_res_energy[\"P_hvac\"])"
     ],
     "language": "python",
     "metadata": {},
     "outputs": []
    },
    {
     "cell_type": "code",
     "collapsed": false,
     "input": [
      "opt_res_money = bui.run_optimization(sim_res, \"ElectricNetwork.BuildingMngmtOpt_Money\", n_e = 24)"
     ],
     "language": "python",
     "metadata": {},
     "outputs": []
    },
    {
     "cell_type": "code",
     "collapsed": false,
     "input": [
      "plt.plot(opt_res_money[\"time\"], opt_res_money[\"Money\"])"
     ],
     "language": "python",
     "metadata": {},
     "outputs": []
    },
    {
     "cell_type": "code",
     "collapsed": false,
     "input": [
      "plt.plot(opt_res_energy[\"time\"], opt_res_energy[\"S_pow\"], 'c')\n",
      "plt.plot(opt_res_money[\"time\"], opt_res_money[\"S_pow\"], 'r')\n",
      "plt.plot(sim_res_ctrl[\"time\"], sim_res_ctrl[\"S_pow\"], 'g')\n",
      "print opt_res_money[\"Money\"][-1]\n",
      "print sim_res_ctrl[\"Money\"][-1]\n",
      "print sim_res_ctrl_relay[\"Money\"][-1]"
     ],
     "language": "python",
     "metadata": {},
     "outputs": []
    },
    {
     "cell_type": "code",
     "collapsed": false,
     "input": [
      "opt_A_res_energy_pv = bui.run_optimization(sim_res_pv, \"ElectricNetwork.BuildingMngmtOpt_E_PV\", fixpars = pars_A, n_e = 24)"
     ],
     "language": "python",
     "metadata": {},
     "outputs": []
    },
    {
     "cell_type": "code",
     "collapsed": false,
     "input": [
      "plt.plot(opt_A_res_energy_pv[\"time\"], opt_A_res_energy_pv[\"P_hvac\"])\n",
      "print 0.1e-12*np.dot(opt_A_res_energy_pv[\"P_hvac\"],opt_A_res_energy_pv[\"P_hvac\"])\n",
      "print opt_A_res_energy_pv[\"E\"][-1]"
     ],
     "language": "python",
     "metadata": {},
     "outputs": []
    },
    {
     "cell_type": "code",
     "collapsed": false,
     "input": [
      "opt_B_res_energy_pv = bui.run_optimization(sim_res_pv, \"ElectricNetwork.BuildingMngmtOpt_E_PV\", fixpars = pars_B)"
     ],
     "language": "python",
     "metadata": {},
     "outputs": []
    },
    {
     "cell_type": "code",
     "collapsed": false,
     "input": [
      "plt.plot(opt_B_res_energy_pv[\"time\"], opt_B_res_energy_pv[\"P_hvac\"])\n",
      "print 0.1e-12*np.dot(opt_B_res_energy_pv[\"P_hvac\"],opt_B_res_energy_pv[\"P_hvac\"])\n",
      "print opt_B_res_energy_pv[\"E\"][-1]"
     ],
     "language": "python",
     "metadata": {},
     "outputs": []
    },
    {
     "cell_type": "code",
     "collapsed": false,
     "input": [
      "opt_C_res_energy_pv = bui.run_optimization(sim_res_pv, \"ElectricNetwork.BuildingMngmtOpt_E_PV\", fixpars = pars_C)"
     ],
     "language": "python",
     "metadata": {},
     "outputs": []
    },
    {
     "cell_type": "code",
     "collapsed": false,
     "input": [
      "plt.plot(opt_C_res_energy_pv[\"time\"], opt_C_res_energy_pv[\"P_hvac\"])\n",
      "print 0.1e-12*np.dot(opt_C_res_energy_pv[\"P_hvac\"],opt_C_res_energy_pv[\"P_hvac\"])\n",
      "print opt_C_res_energy_pv[\"E\"][-1]"
     ],
     "language": "python",
     "metadata": {},
     "outputs": []
    },
    {
     "cell_type": "code",
     "collapsed": false,
     "input": [
      "opt_A_res_money_pv = bui.run_optimization(sim_res_pv, \"ElectricNetwork.BuildingMngmtOpt_Money_PV\", fixpars = pars_A)"
     ],
     "language": "python",
     "metadata": {},
     "outputs": []
    },
    {
     "cell_type": "code",
     "collapsed": false,
     "input": [
      "plt.plot(opt_A_res_money_pv[\"time\"], opt_A_res_money_pv[\"P_hvac\"])\n",
      "print 1e-14*np.dot(opt_A_res_money_pv[\"P_hvac\"],opt_A_res_money_pv[\"P_hvac\"])\n",
      "print opt_A_res_money_pv[\"Money\"][-1]"
     ],
     "language": "python",
     "metadata": {},
     "outputs": []
    },
    {
     "cell_type": "code",
     "collapsed": false,
     "input": [
      "opt_B_res_money_pv = bui.run_optimization(sim_res_pv, \"ElectricNetwork.BuildingMngmtOpt_Money_PV\", fixpars = pars_B)"
     ],
     "language": "python",
     "metadata": {},
     "outputs": []
    },
    {
     "cell_type": "code",
     "collapsed": false,
     "input": [
      "opt_C_res_money_pv = bui.run_optimization(sim_res_pv, \"ElectricNetwork.BuildingMngmtOpt_Money_PV\", fixpars = pars_C)"
     ],
     "language": "python",
     "metadata": {},
     "outputs": []
    },
    {
     "cell_type": "code",
     "collapsed": false,
     "input": [
      "bui.print_details(opt_res_money, opt_res_energy)\n",
      "bui.print_details(opt_A_res_money_pv, opt_A_res_energy_pv)\n",
      "bui.print_details(opt_B_res_money_pv, opt_B_res_energy_pv)\n",
      "bui.print_details(opt_C_res_money_pv, opt_C_res_energy_pv)"
     ],
     "language": "python",
     "metadata": {},
     "outputs": []
    },
    {
     "cell_type": "code",
     "collapsed": false,
     "input": [
      "plt.plot(opt_res_money[\"Money\"] - opt_res_money[\"Money\"][0], 'r')\n",
      "plt.plot(opt_A_res_money_pv[\"Money\"] - opt_A_res_money_pv[\"Money\"][0], 'r--')\n",
      "plt.plot(opt_res_energy[\"Money\"] - opt_res_energy[\"Money\"][0], 'b')\n",
      "plt.plot(opt_A_res_energy_pv[\"Money\"] - opt_A_res_energy_pv[\"Money\"][0], 'b--')"
     ],
     "language": "python",
     "metadata": {},
     "outputs": []
    },
    {
     "cell_type": "code",
     "collapsed": false,
     "input": [
      "plt.plot(opt_res_money[\"E\"] - opt_res_money[\"E\"][0], 'r')\n",
      "plt.plot(opt_A_res_money_pv[\"E\"] - opt_A_res_money_pv[\"E\"][0], 'r--')\n",
      "plt.plot(opt_res_energy[\"E\"] - opt_res_energy[\"E\"][0], 'b')\n",
      "plt.plot(opt_A_res_energy_pv[\"E\"] - opt_A_res_energy_pv[\"E\"][0], 'b--')"
     ],
     "language": "python",
     "metadata": {},
     "outputs": []
    },
    {
     "cell_type": "code",
     "collapsed": false,
     "input": [
      "plt.plot(opt_res_money[\"P_el\"], 'r')\n",
      "plt.plot(opt_A_res_money_pv[\"P_el\"], 'r--')\n",
      "plt.plot(opt_res_energy[\"P_el\"], 'b')\n",
      "plt.plot(opt_A_res_energy_pv[\"P_el\"], 'b--')"
     ],
     "language": "python",
     "metadata": {},
     "outputs": []
    },
    {
     "cell_type": "code",
     "collapsed": false,
     "input": [
      "plt.plot(opt_res_money[\"P_hvac\"], 'r')\n",
      "plt.plot(opt_A_res_money_pv[\"P_hvac\"], 'r--')\n",
      "plt.plot(opt_res_energy[\"P_hvac\"], 'b')\n",
      "plt.plot(opt_A_res_energy_pv[\"P_hvac\"], 'b--')"
     ],
     "language": "python",
     "metadata": {},
     "outputs": []
    },
    {
     "cell_type": "code",
     "collapsed": false,
     "input": [
      "opt_A_res_energy_pv_batt = bui.run_optimization(sim_res_pv, \"ElectricNetwork.BuildingMngmtOpt_E_PV\", use_battery = True, fixpars = pars_A)\n",
      "#opt_res_energy_pv_batt = bui.run_optimization(opt_res_energy_pv_batt, \"ElectricNetwork.BuildingMngmtOpt_E_PV\", use_battery = True)"
     ],
     "language": "python",
     "metadata": {},
     "outputs": []
    },
    {
     "cell_type": "code",
     "collapsed": false,
     "input": [
      "opt_B_res_energy_pv_batt = bui.run_optimization(sim_res_pv, \"ElectricNetwork.BuildingMngmtOpt_E_PV\", use_battery = True, fixpars = pars_B)"
     ],
     "language": "python",
     "metadata": {},
     "outputs": []
    },
    {
     "cell_type": "code",
     "collapsed": false,
     "input": [
      "opt_C_res_energy_pv_batt = bui.run_optimization(sim_res_pv, \"ElectricNetwork.BuildingMngmtOpt_E_PV\", use_battery = True, fixpars = pars_C)"
     ],
     "language": "python",
     "metadata": {},
     "outputs": []
    },
    {
     "cell_type": "code",
     "collapsed": false,
     "input": [
      "opt_A_res_money_pv_batt = bui.run_optimization(sim_res_pv, \"ElectricNetwork.BuildingMngmtOpt_Money_PV\", use_battery = True, fixpars = pars_A)"
     ],
     "language": "python",
     "metadata": {},
     "outputs": []
    },
    {
     "cell_type": "code",
     "collapsed": false,
     "input": [
      "opt_B_res_money_pv_batt = bui.run_optimization(sim_res_pv, \"ElectricNetwork.BuildingMngmtOpt_Money_PV\", use_battery = True, fixpars = pars_B)"
     ],
     "language": "python",
     "metadata": {},
     "outputs": []
    },
    {
     "cell_type": "code",
     "collapsed": false,
     "input": [
      "opt_C_res_money_pv_batt = bui.run_optimization(sim_res_pv, \"ElectricNetwork.BuildingMngmtOpt_Money_PV\", use_battery = True, fixpars = pars_C)"
     ],
     "language": "python",
     "metadata": {},
     "outputs": []
    },
    {
     "cell_type": "code",
     "collapsed": false,
     "input": [
      "plt.plot(opt_A_res_energy_pv_batt[\"time\"]/3600, opt_A_res_energy_pv_batt[\"batt.SOC\"], 'b')\n",
      "plt.plot([opt_A_res_energy_pv_batt[\"time\"][0]/3600, opt_A_res_energy_pv_batt[\"time\"][-1]/3600], [opt_A_res_energy_pv_batt[\"batt.SOC\"][0], opt_A_res_energy_pv_batt[\"batt.SOC\"][-1]], 'b--')\n",
      "\n",
      "plt.plot(opt_A_res_money_pv_batt[\"time\"]/3600, opt_A_res_money_pv_batt[\"batt.SOC\"], 'k')\n",
      "plt.plot([opt_A_res_money_pv_batt[\"time\"][0]/3600, opt_A_res_money_pv_batt[\"time\"][-1]/3600], [opt_A_res_money_pv_batt[\"batt.SOC\"][0], opt_A_res_money_pv_batt[\"batt.SOC\"][-1]], 'k--')\n",
      "plt.figure()\n",
      "plt.plot(opt_A_res_energy_pv_batt[\"time\"]/3600, opt_A_res_energy_pv_batt[\"S_pow\"], 'b')\n",
      "plt.plot(opt_A_res_money_pv_batt[\"time\"]/3600, opt_A_res_money_pv_batt[\"S_pow\"], 'k')\n",
      "#plot(opt_res_money[\"time\"], opt_res_money[\"S_pow\"], 'r')\n",
      "#plot(sim_res_ctrl[\"time\"], sim_res_ctrl[\"S_pow\"], 'g')\n",
      "#print 1e-11*np.dot(opt_res_energy_pv_batt[\"P_batt\"], opt_res_energy_pv_batt[\"P_batt\"]), opt_res_energy_pv_batt[\"E\"][-1]\n",
      "#print 1e-13*np.dot(opt_res_money_pv_batt[\"P_batt\"], opt_res_money_pv_batt[\"P_batt\"]), opt_res_money_pv_batt[\"Money\"][-1]\n",
      "#print 1e-12*np.dot(opt_res_energy_pv_batt[\"P_hvac\"], opt_res_energy_pv_batt[\"P_hvac\"]), opt_res_energy_pv_batt[\"E\"][-1]\n",
      "#print 1e-14*np.dot(opt_res_money_pv_batt[\"P_hvac\"], opt_res_money_pv_batt[\"P_hvac\"]), opt_res_money_pv_batt[\"Money\"][-1]"
     ],
     "language": "python",
     "metadata": {},
     "outputs": []
    },
    {
     "cell_type": "code",
     "collapsed": false,
     "input": [
      "plot(sim_res_ctrl[\"time\"], sim_res_ctrl[\"bldg.Vrms\"]/4800, 'c')\n",
      "plot(sim_res_ctrl_pv[\"time\"], sim_res_ctrl_pv[\"bldg.Vrms\"]/4800, 'k')\n",
      "\n",
      "plot(opt_res_energy[\"time\"], opt_res_energy[\"bldg.Vrms\"]/4800, 'b--')\n",
      "plot(opt_res_money[\"time\"], opt_res_money[\"bldg.Vrms\"]/4800, 'y--')\n",
      "\n",
      "plot(opt_res_energy_pv[\"time\"], opt_res_energy_pv[\"bldg.Vrms\"]/4800, 'b')\n",
      "plot(opt_res_money_pv[\"time\"], opt_res_money_pv[\"bldg.Vrms\"]/4800, 'y')\n",
      "\n",
      "plot(opt_res_money_pv_batt[\"time\"], opt_res_money_pv_batt[\"bldg.Vrms\"]/4800, 'g')\n",
      "plot(opt_res_energy_pv_batt[\"time\"], opt_res_energy_pv_batt[\"bldg.Vrms\"]/4800, 'r')"
     ],
     "language": "python",
     "metadata": {},
     "outputs": []
    },
    {
     "cell_type": "code",
     "collapsed": false,
     "input": [
      "# Save the data for case 1 building A: no PV, no battery and regular PI controller\n",
      "df_case_1_A_ctrl = pd.DataFrame(sim_res_ctrl[\"Tmix\"], index = sim_res_ctrl[\"time\"], columns = [\"Tmix\"])\n",
      "col_names = [\"Tmix\"]\n",
      "for n in [\"S_pow\", \"E\", \"Money\", \"P_hvac\", \"Pctrl\", \"batt.P\", \"bldg.P\"]:\n",
      "    df_case_1_A_ctrl[n] = sim_res_ctrl[n]\n",
      "    col_names.append(n)\n",
      "    df_case_1_A_ctrl.columns = col_names\n",
      "\n",
      "# Save the data for case 1 building A: no PV, no battery and optimize for energy\n",
      "df_case_1_A_energy = pd.DataFrame(opt_res_energy[\"Tmix\"], index = opt_res_energy[\"time\"], columns = [\"Tmix\"])\n",
      "col_names = [\"Tmix\"]\n",
      "for n in [\"S_pow\", \"E\", \"Money\", \"P_hvac\", \"Pctrl\", \"batt.P\", \"bldg.P\"]:\n",
      "    df_case_1_A_energy[n] = opt_res_energy[n]\n",
      "    col_names.append(n)\n",
      "    df_case_1_A_energy.columns = col_names\n",
      "    \n",
      "# Save the data for case 1 building A: no PV, no battery and optimize for money\n",
      "df_case_1_A_money = pd.DataFrame(opt_res_money[\"Tmix\"], index = opt_res_money[\"time\"], columns = [\"Tmix\"])\n",
      "col_names = [\"Tmix\"]\n",
      "for n in [\"S_pow\", \"E\", \"Money\", \"P_hvac\", \"Pctrl\", \"batt.P\", \"bldg.P\"]:\n",
      "    df_case_1_A_money[n] = opt_res_money[n]\n",
      "    col_names.append(n)\n",
      "    df_case_1_A_money.columns = col_names\n",
      "\n",
      "# Dump to csv\n",
      "df_case_1_A_ctrl.to_csv(\"case_1_A_ctrl.csv\")\n",
      "df_case_1_A_energy.to_csv(\"case_1_A_energy.csv\")\n",
      "df_case_1_A_money.to_csv(\"case_1_A_money.csv\")"
     ],
     "language": "python",
     "metadata": {},
     "outputs": []
    },
    {
     "cell_type": "code",
     "collapsed": false,
     "input": [
      "# Save the data for case 2 building A: yes PV, no battery and regular PI controller\n",
      "df_case_2_A_ctrl = pd.DataFrame(sim_A_res_ctrl_pv[\"Tmix\"], index = sim_A_res_ctrl_pv[\"time\"], columns = [\"Tmix\"])\n",
      "col_names = [\"Tmix\"]\n",
      "for n in [\"S_pow\", \"E\", \"Money\", \"P_hvac\", \"Pctrl\", \"batt.P\", \"bldg.P\", \"pv.P\"]:\n",
      "    df_case_2_A_ctrl[n] = sim_A_res_ctrl_pv[n]\n",
      "    col_names.append(n)\n",
      "    df_case_2_A_ctrl.columns = col_names\n",
      "\n",
      "# Save the data for case 2 building A: yes PV, no battery and optimal controller\n",
      "df_case_2_A_energy = pd.DataFrame(opt_A_res_energy_pv[\"Tmix\"], index = opt_A_res_energy_pv[\"time\"], columns = [\"Tmix\"])\n",
      "col_names = [\"Tmix\"]\n",
      "for n in [\"S_pow\", \"E\", \"Money\", \"P_hvac\", \"Pctrl\", \"batt.P\", \"bldg.P\", \"pv.P\"]:\n",
      "    df_case_2_A_energy[n] = opt_A_res_energy_pv[n]\n",
      "    col_names.append(n)\n",
      "    df_case_2_A_energy.columns = col_names\n",
      "    \n",
      "# Save the data for case 2 building A: yes PV, no battery and optimal controller\n",
      "df_case_2_A_money = pd.DataFrame(opt_A_res_money_pv[\"Tmix\"], index = opt_A_res_money_pv[\"time\"], columns = [\"Tmix\"])\n",
      "col_names = [\"Tmix\"]\n",
      "for n in [\"S_pow\", \"E\", \"Money\", \"P_hvac\", \"Pctrl\", \"batt.P\", \"bldg.P\", \"pv.P\"]:\n",
      "    df_case_2_A_money[n] = opt_A_res_money_pv[n]\n",
      "    col_names.append(n)\n",
      "    df_case_2_A_money.columns = col_names\n",
      "\n",
      "# Dump to csv\n",
      "df_case_2_A_ctrl.to_csv(\"case_2_A_ctrl.csv\")\n",
      "df_case_2_A_energy.to_csv(\"case_2_A_energy.csv\")\n",
      "df_case_2_A_money.to_csv(\"case_2_A_money.csv\")"
     ],
     "language": "python",
     "metadata": {},
     "outputs": []
    },
    {
     "cell_type": "code",
     "collapsed": false,
     "input": [
      "# Save the data for case 3 building A: yes PV, yes battery\n",
      "df_case_3_A_energy = pd.DataFrame(opt_A_res_energy_pv_batt[\"Tmix\"], index = opt_A_res_energy_pv_batt[\"time\"], columns = [\"Tmix\"])\n",
      "col_names = [\"Tmix\"]\n",
      "for n in [\"S_pow\", \"E\", \"Money\", \"P_hvac\", \"Pctrl\", \"batt.P\", \"bldg.P\", \"pv.P\"]:\n",
      "    df_case_3_A_energy[n] = opt_A_res_energy_pv_batt[n]\n",
      "    col_names.append(n)\n",
      "    df_case_3_A_energy.columns = col_names\n",
      "    \n",
      "# Save the data for case 3 building A: yes PV, yes battery\n",
      "df_case_3_A_money = pd.DataFrame(opt_A_res_money_pv_batt[\"Tmix\"], index = opt_A_res_money_pv_batt[\"time\"], columns = [\"Tmix\"])\n",
      "col_names = [\"Tmix\"]\n",
      "for n in [\"S_pow\", \"E\", \"Money\", \"P_hvac\", \"Pctrl\", \"batt.P\", \"bldg.P\", \"pv.P\"]:\n",
      "    df_case_3_A_money[n] = opt_A_res_money_pv_batt[n]\n",
      "    col_names.append(n)\n",
      "    df_case_3_A_money.columns = col_names\n",
      "\n",
      "# Dump to csv\n",
      "df_case_3_A_energy.to_csv(\"case_3_A_energy.csv\")\n",
      "df_case_3_A_money.to_csv(\"case_3_A_money.csv\")"
     ],
     "language": "python",
     "metadata": {},
     "outputs": []
    },
    {
     "cell_type": "code",
     "collapsed": false,
     "input": [
      "# Save the data for case 3 building B: yes PV, yes battery\n",
      "df_case_3_B_energy = pd.DataFrame(opt_B_res_energy_pv_batt[\"Tmix\"], index = opt_B_res_energy_pv_batt[\"time\"], columns = [\"Tmix\"])\n",
      "col_names = [\"Tmix\"]\n",
      "for n in [\"S_pow\", \"E\", \"Money\", \"P_hvac\", \"Pctrl\", \"batt.P\", \"bldg.P\", \"pv.P\"]:\n",
      "    df_case_3_B_energy[n] = opt_B_res_energy_pv_batt[n]\n",
      "    col_names.append(n)\n",
      "    df_case_3_B_energy.columns = col_names\n",
      "    \n",
      "# Save the data for case 3 building A: yes PV, yes battery\n",
      "df_case_3_B_money = pd.DataFrame(opt_B_res_money_pv_batt[\"Tmix\"], index = opt_B_res_money_pv_batt[\"time\"], columns = [\"Tmix\"])\n",
      "col_names = [\"Tmix\"]\n",
      "for n in [\"S_pow\", \"E\", \"Money\", \"P_hvac\", \"Pctrl\", \"batt.P\", \"bldg.P\", \"pv.P\"]:\n",
      "    df_case_3_B_money[n] = opt_B_res_money_pv_batt[n]\n",
      "    col_names.append(n)\n",
      "    df_case_3_B_money.columns = col_names\n",
      "\n",
      "# Dump to csv\n",
      "df_case_3_B_energy.to_csv(\"case_3_B_energy.csv\")\n",
      "df_case_3_B_money.to_csv(\"case_3_B_money.csv\")"
     ],
     "language": "python",
     "metadata": {},
     "outputs": []
    },
    {
     "cell_type": "code",
     "collapsed": false,
     "input": [
      "# Save the data for case 3 building C: yes PV, yes battery\n",
      "df_case_3_C_energy = pd.DataFrame(opt_C_res_energy_pv_batt[\"Tmix\"], index = opt_C_res_energy_pv_batt[\"time\"], columns = [\"Tmix\"])\n",
      "col_names = [\"Tmix\"]\n",
      "for n in [\"S_pow\", \"E\", \"Money\", \"P_hvac\", \"Pctrl\", \"batt.P\", \"bldg.P\", \"pv.P\"]:\n",
      "    df_case_3_C_energy[n] = opt_C_res_energy_pv_batt[n]\n",
      "    col_names.append(n)\n",
      "    df_case_3_C_energy.columns = col_names\n",
      "    \n",
      "# Save the data for case 3 building C: yes PV, yes battery\n",
      "df_case_3_C_money = pd.DataFrame(opt_C_res_money_pv_batt[\"Tmix\"], index = opt_C_res_money_pv_batt[\"time\"], columns = [\"Tmix\"])\n",
      "col_names = [\"Tmix\"]\n",
      "for n in [\"S_pow\", \"E\", \"Money\", \"P_hvac\", \"Pctrl\", \"batt.P\", \"bldg.P\", \"pv.P\"]:\n",
      "    df_case_3_C_money[n] = opt_C_res_money_pv_batt[n]\n",
      "    col_names.append(n)\n",
      "    df_case_3_C_money.columns = col_names\n",
      "\n",
      "# Dump to csv\n",
      "df_case_3_C_energy.to_csv(\"case_3_C_energy.csv\")\n",
      "df_case_3_C_money.to_csv(\"case_3_C_money.csv\")"
     ],
     "language": "python",
     "metadata": {},
     "outputs": []
    },
    {
     "cell_type": "code",
     "collapsed": false,
     "input": [
      "print sim_res_ctrl[\"time\"][-1]\n",
      "print opt_res_energy[\"time\"][-1]"
     ],
     "language": "python",
     "metadata": {},
     "outputs": []
    },
    {
     "cell_type": "code",
     "collapsed": false,
     "input": [
      "from scipy import signal\n",
      "import matplotlib.pyplot as plt"
     ],
     "language": "python",
     "metadata": {},
     "outputs": []
    },
    {
     "cell_type": "code",
     "collapsed": false,
     "input": [
      "A = np.array([[-1.13701970e-05, 5.64289098e-06],[ 5.64289098e-07, -3.08438960e-06]])\n",
      "B = np.array([[1.15740741e-05],\n",
      "\t         [0.00000000e+00]])\n",
      "\n",
      "C = np.array([[1.0, 0.0]])\n",
      "D = np.zeros((1,1))\n",
      "\n",
      "s2 = signal.lti(A, B, C, D)\n",
      "w, mag, phase = signal.bode(s2)\n",
      "\n",
      "s1 = signal.lti([1.14], [100000, 1])\n",
      "w_1, mag_1, phase_1 = signal.bode(s1, w = w)\n",
      "\n",
      "plt.figure()\n",
      "plt.semilogx(w, mag)    # Bode magnitude plot\n",
      "plt.semilogx(w_1, mag_1)\n",
      "plt.figure()\n",
      "plt.semilogx(w, phase)  # Bode phase plot\n",
      "plt.semilogx(w_1, phase_1)\n",
      "plt.show()"
     ],
     "language": "python",
     "metadata": {},
     "outputs": []
    },
    {
     "cell_type": "code",
     "collapsed": false,
     "input": [
      "10**(mag[0]/20)"
     ],
     "language": "python",
     "metadata": {},
     "outputs": []
    },
    {
     "cell_type": "code",
     "collapsed": false,
     "input": [
      "(6.28*1e5)/100"
     ],
     "language": "python",
     "metadata": {},
     "outputs": []
    },
    {
     "cell_type": "code",
     "collapsed": false,
     "input": [],
     "language": "python",
     "metadata": {},
     "outputs": []
    },
    {
     "cell_type": "code",
     "collapsed": false,
     "input": [
      "import matplotlib as mpl\n",
      "mpl.rc('font', serif='Times New Roman', size=13)\n",
      "\n",
      "def plot_res(res_E, res_M, img_name = 'test2png.png'):\n",
      "    \"\"\"\n",
      "    This function plots the results of a simulation\n",
      "    \"\"\"\n",
      "    time = res_E[\"time\"]\n",
      "    time_M = res_M[\"time\"]\n",
      "    Tbui_E = res_E[\"Tmix\"]\n",
      "    Tbui_M = res_M[\"Tmix\"]\n",
      "    Tamb = res_E[\"u[2]\"]\n",
      "    price = res_E[\"price\"]\n",
      "    price_max = np.max(price)\n",
      "    price_min = np.min(price)\n",
      " \n",
      "    fig = plt.figure()\n",
      "    ax = fig.add_subplot(111)\n",
      "    ax.plot(time/3600/24, Tamb, 'g', alpha=0.5, linewidth=2, label=\"$T_{amb}$\")\n",
      "    ax.plot(time/3600/24, Tbui_E, 'r', alpha=0.5, linewidth=2, label=\"$T_R^{E}$\")\n",
      "    ax.plot(time_M/3600/24, Tbui_M, 'k', alpha=0.5, linewidth=2, label=\"$T_R^{M}$\")\n",
      "    ax.plot(time/3600/24, np.ones(len(time))*(273.15 + 20), 'b--', alpha=0.5, linewidth=2, label=\"$T_R^{min,max}$\")\n",
      "    ax.plot(time/3600/24, np.ones(len(time))*(273.15 + 24), 'b--', alpha=0.5, linewidth=2)\n",
      "    \n",
      "    t0 = time[0]\n",
      "    t1 = time[-1]\n",
      "    T = np.arange(t0, t1, 3600.0)\n",
      "    price_T = np.interp(T, time, price)\n",
      "    alpha_max = 0.6\n",
      "    for i in range(2,len(T)):\n",
      "        a = (((price_T[i-1]+price_T[i])/2)-price_min)/(price_max - price_min)*alpha_max \n",
      "        ax.fill_between([(i-1)/24.0, i/24.0], [0,0], [350,350], facecolor=\"#CC3300\", alpha = a, linewidth = 0)  \n",
      "\n",
      "    ax.set_xlabel('Time [days]', size= '16')\n",
      "    ax.set_ylabel('Temperature [K]', size= '16')\n",
      "    ax.set_ylim([286,310])\n",
      "    ax.set_xlim([0,5])\n",
      "    plt.tick_params(axis='both', which='major', labelsize=16)\n",
      "    plt.tick_params(axis='both', which='minor', labelsize=16)\n",
      "    plt.legend(loc=\"upper right\", ncol=4)\n",
      "    fig = plt.gcf()\n",
      "    fig.set_size_inches(9,5)\n",
      "    fig.savefig(img_name, dpi=300)\n",
      "    plt.show()\n",
      "    \n",
      "    return\n",
      "\n",
      "def plot_res_batt(res_E, res_M, img_name = 'test2png.png'):\n",
      "    \"\"\"\n",
      "    This function plots the results of a simulation\n",
      "    \"\"\"\n",
      "    time = res_E[\"time\"]\n",
      "    time_M = res_M[\"time\"]\n",
      "    soc_E = res_E[\"batt.SOC\"]\n",
      "    soc_M = res_M[\"batt.SOC\"]\n",
      "    price = res_E[\"price\"]\n",
      "    price_max = np.max(price)\n",
      "    price_min = np.min(price)\n",
      " \n",
      "    fig = plt.figure()\n",
      "    ax = fig.add_subplot(111)\n",
      "    ax.plot(time/3600/24, soc_E, 'r', alpha=0.5, linewidth=2, label=\"$SOC^{E}$\")\n",
      "    ax.plot(time_M/3600/24, soc_M, 'k', alpha=0.5, linewidth=2, label=\"$SOC^{M}$\")\n",
      "    ax.plot(time/3600/24, np.ones(len(time))*0.2, 'b--', alpha=0.5, linewidth=2, label=\"$SOC^{min,max}$\")\n",
      "    ax.plot(time/3600/24, np.ones(len(time))*1.0, 'b--', alpha=0.5, linewidth=2)\n",
      "    \n",
      "    t0 = time[0]\n",
      "    t1 = time[-1]\n",
      "    T = np.arange(t0, t1, 3600.0)\n",
      "    price_T = np.interp(T, time, price)\n",
      "    alpha_max = 0.6\n",
      "    for i in range(2,len(T)):\n",
      "        a = (((price_T[i-1]+price_T[i])/2)-price_min)/(price_max - price_min)*alpha_max \n",
      "        ax.fill_between([(i-1)/24.0, i/24.0], [0,0], [350,350], facecolor=\"#CC3300\", alpha = a, linewidth = 0)  \n",
      "\n",
      "    ax.set_xlabel('Time [days]', size= '16')\n",
      "    ax.set_ylabel('State of charge [1]', size= '16')\n",
      "    ax.set_ylim([0,1.2])\n",
      "    ax.set_xlim([0,5])\n",
      "    plt.tick_params(axis='both', which='major', labelsize=16)\n",
      "    plt.tick_params(axis='both', which='minor', labelsize=16)\n",
      "    plt.legend(loc=\"lower right\", ncol=4)\n",
      "    fig = plt.gcf()\n",
      "    fig.set_size_inches(9,5)\n",
      "    fig.savefig(img_name, dpi=300)\n",
      "    plt.show()\n",
      "    \n",
      "    return"
     ],
     "language": "python",
     "metadata": {},
     "outputs": []
    },
    {
     "cell_type": "code",
     "collapsed": false,
     "input": [
      "plot_res(opt_res_energy, opt_res_money, \"case_1.png\")"
     ],
     "language": "python",
     "metadata": {},
     "outputs": []
    },
    {
     "cell_type": "code",
     "collapsed": false,
     "input": [
      "plot_res(opt_A_res_energy_pv, opt_A_res_money_pv, \"case_2_A.png\")"
     ],
     "language": "python",
     "metadata": {},
     "outputs": []
    },
    {
     "cell_type": "code",
     "collapsed": false,
     "input": [
      "plot_res(opt_B_res_energy_pv, opt_B_res_money_pv, \"case_2_B.png\")"
     ],
     "language": "python",
     "metadata": {},
     "outputs": []
    },
    {
     "cell_type": "code",
     "collapsed": false,
     "input": [
      "plot_res(opt_C_res_energy_pv, opt_C_res_money_pv, \"case_2_C.png\")"
     ],
     "language": "python",
     "metadata": {},
     "outputs": []
    },
    {
     "cell_type": "code",
     "collapsed": false,
     "input": [
      "plot_res(opt_A_res_energy_pv_batt, opt_A_res_money_pv_batt, \"case_3_A.png\")"
     ],
     "language": "python",
     "metadata": {},
     "outputs": []
    },
    {
     "cell_type": "code",
     "collapsed": false,
     "input": [
      "plot_res(opt_B_res_energy_pv_batt, opt_B_res_money_pv_batt, \"case_3_B.png\")"
     ],
     "language": "python",
     "metadata": {},
     "outputs": []
    },
    {
     "cell_type": "code",
     "collapsed": false,
     "input": [
      "plot_res(opt_C_res_energy_pv_batt, opt_C_res_money_pv_batt, \"case_3_C.png\")"
     ],
     "language": "python",
     "metadata": {},
     "outputs": []
    },
    {
     "cell_type": "code",
     "collapsed": false,
     "input": [
      "plot_res_batt(opt_A_res_energy_pv_batt, opt_A_res_money_pv_batt, \"case_3_A_soc.png\")"
     ],
     "language": "python",
     "metadata": {},
     "outputs": []
    },
    {
     "cell_type": "code",
     "collapsed": false,
     "input": [
      "plot_res_batt(opt_B_res_energy_pv_batt, opt_B_res_money_pv_batt, \"case_3_B_soc.png\")"
     ],
     "language": "python",
     "metadata": {},
     "outputs": []
    },
    {
     "cell_type": "code",
     "collapsed": false,
     "input": [
      "plot_res_batt(opt_C_res_energy_pv_batt, opt_C_res_money_pv_batt, \"case_3_C_soc.png\")"
     ],
     "language": "python",
     "metadata": {},
     "outputs": []
    },
    {
     "cell_type": "code",
     "collapsed": false,
     "input": [
      "results_M = {\"Case 1\": opt_res_money, \"Case 2\": opt_B_res_money_pv, \\\n",
      "           \"Case 3\": opt_B_res_money_pv_batt}\n",
      "\n",
      "results_E = {\"Case 1\": opt_res_energy, \"Case 2\": opt_B_res_energy_pv, \\\n",
      "           \"Case 3\": opt_B_res_energy_pv_batt}\n",
      "\n",
      "def plot_P_hvac(results, img_name):\n",
      "    colrs = \"rgb\"\n",
      "    fig = plt.figure()\n",
      "    ax = fig.add_subplot(111)\n",
      "    ind = 0\n",
      "    for key, value in results.iteritems():\n",
      "        ax.plot(value[\"time\"]/3600/24, -value[\"P_hvac\"]/1.0e3, colrs[ind], alpha=0.5, linewidth=2, label=key)\n",
      "        ind +=1\n",
      "        \n",
      "    t0 = value[\"time\"][0]\n",
      "    t1 = value[\"time\"][-1]\n",
      "    T = np.arange(t0, t1, 3600.0)\n",
      "    price_max = np.max(value[\"price\"])\n",
      "    price_min = np.min(value[\"price\"])\n",
      "    price_T = np.interp(T, value[\"time\"], value[\"price\"])\n",
      "    alpha_max = 0.6\n",
      "    for i in range(2,len(T)):\n",
      "        a = (((price_T[i-1]+price_T[i])/2)-price_min)/(price_max - price_min)*alpha_max \n",
      "        ax.fill_between([(i-1)/24.0, i/24.0], [0,0], [350,350], facecolor=\"#CC3300\", alpha = a, linewidth = 0)\n",
      "        \n",
      "    ax.set_xlabel('Time [days]', size= '16')\n",
      "    ax.set_ylabel('Cooling power [kW]', size= '16')\n",
      "    ax.set_ylim([0,255])\n",
      "    ax.set_xlim([0,5])\n",
      "    plt.tick_params(axis='both', which='major', labelsize=16)\n",
      "    plt.tick_params(axis='both', which='minor', labelsize=16)\n",
      "    plt.legend(loc=\"lower right\", ncol=4)\n",
      "    fig = plt.gcf()\n",
      "    fig.set_size_inches(10,5)\n",
      "    fig.savefig(img_name, dpi=300)\n",
      "    plt.show()"
     ],
     "language": "python",
     "metadata": {},
     "outputs": []
    },
    {
     "cell_type": "code",
     "collapsed": false,
     "input": [
      "plot_P_hvac(results_E, \"P_hvac_energy.png\")"
     ],
     "language": "python",
     "metadata": {},
     "outputs": []
    },
    {
     "cell_type": "code",
     "collapsed": false,
     "input": [
      "plot_P_hvac(results_M, \"P_hvac_money.png\")"
     ],
     "language": "python",
     "metadata": {},
     "outputs": []
    },
    {
     "cell_type": "code",
     "collapsed": false,
     "input": [
      "bui.print_details(opt_res_money,sim_res_ctrl_relay)\n",
      "print \"-\"*20\n",
      "bui.print_details(opt_res_money, opt_res_energy)\n",
      "print \"-\"*20\n",
      "bui.print_details(opt_B_res_money_pv, opt_B_res_energy_pv)\n",
      "print \"-\"*20\n",
      "bui.print_details(opt_B_res_money_pv_batt, opt_B_res_energy_pv_batt)\n",
      "print \"-\"*20"
     ],
     "language": "python",
     "metadata": {},
     "outputs": []
    },
    {
     "cell_type": "code",
     "collapsed": false,
     "input": [
      "def print_E_details(opt_res_money, opt_res_energy):\n",
      "    \"\"\"\n",
      "    This function prints some details about the different optimziation results\n",
      "    \"\"\"\n",
      "    E_mon = opt_res_money[\"E\"][-1] - opt_res_money[\"E\"][0]\n",
      "    E_en = opt_res_energy[\"E\"][-1] - opt_res_energy[\"E\"][0]\n",
      "    print \"Energy consumed while optimizing energy [$]: {0}\".format(E_en)\n",
      "    print \"Energy consumed while optimizing cost [$]: {0}\".format(E_mon)\n",
      "    print \"Savings [kWh, %]: {0} -- {1}%\".format(E_en - E_mon, 100*(E_en - E_mon)/E_en)\n",
      "    return"
     ],
     "language": "python",
     "metadata": {},
     "outputs": []
    },
    {
     "cell_type": "code",
     "collapsed": false,
     "input": [
      "print_E_details(opt_res_money,sim_res_ctrl_relay)\n",
      "print \"-\"*20\n",
      "print_E_details(opt_res_money, opt_res_energy)\n",
      "print \"-\"*20\n",
      "print_E_details(opt_B_res_money_pv, opt_B_res_energy_pv)\n",
      "print \"-\"*20\n",
      "print_E_details(opt_B_res_money_pv_batt, opt_B_res_energy_pv_batt)\n",
      "print \"-\"*20"
     ],
     "language": "python",
     "metadata": {},
     "outputs": []
    },
    {
     "cell_type": "code",
     "collapsed": false,
     "input": [],
     "language": "python",
     "metadata": {},
     "outputs": []
    },
    {
     "cell_type": "code",
     "collapsed": false,
     "input": [],
     "language": "python",
     "metadata": {},
     "outputs": []
    }
   ],
   "metadata": {}
  }
 ]
}