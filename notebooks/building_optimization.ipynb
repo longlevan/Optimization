{
 "metadata": {
  "name": ""
 },
 "nbformat": 3,
 "nbformat_minor": 0,
 "worksheets": [
  {
   "cells": [
    {
     "cell_type": "code",
     "collapsed": false,
     "input": [
      "import sys\n",
      "sys.path.append(\"/home/docker/data/Optimization/\")"
     ],
     "language": "python",
     "metadata": {},
     "outputs": []
    },
    {
     "cell_type": "code",
     "collapsed": false,
     "input": [
      "from building_opt import building_opt as bui"
     ],
     "language": "python",
     "metadata": {},
     "outputs": []
    },
    {
     "cell_type": "code",
     "collapsed": false,
     "input": [
      "sim_res_ctrl = bui.run_simulation('ElectricNetwork.SingleBuildingElectricCtrl', P_hvac = 0.0, P_batt = 0.0)\n",
      "sim_res_ctrl_pv = bui.run_simulation('ElectricNetwork.SingleBuildingElectricCtrlPV', P_hvac = 0.0, P_batt = 0.0)\n",
      "sim_res = bui.run_simulation('ElectricNetwork.SingleBuildingElectric', P_hvac = -2.0e5, P_batt = 0.0)\n",
      "sim_res_pv = bui.run_simulation('ElectricNetwork.SingleBuildingElectricPV', P_hvac = -2.0e5, P_batt = 0.0)"
     ],
     "language": "python",
     "metadata": {},
     "outputs": []
    },
    {
     "cell_type": "code",
     "collapsed": false,
     "input": [
      "bui.plot_sim_res(sim_res_ctrl)"
     ],
     "language": "python",
     "metadata": {},
     "outputs": []
    },
    {
     "cell_type": "code",
     "collapsed": false,
     "input": [
      "plot(sim_res_ctrl[\"time\"], sim_res_ctrl[\"S_pow\"], 'c')\n",
      "plot(sim_res[\"time\"], sim_res[\"S_pow\"], 'r')\n",
      "plot(sim_res_pv[\"time\"], sim_res_pv[\"S_pow\"], \"b\")\n",
      "plot(sim_res_pv[\"time\"], sim_res_pv[\"pv.P\"], \"g\")\n",
      "plot(sim_res[\"time\"], sim_res[\"batt.P\"], \"k\")\n",
      "sim_res_ctrl[\"Money\"][-1]"
     ],
     "language": "python",
     "metadata": {},
     "outputs": []
    },
    {
     "cell_type": "code",
     "collapsed": false,
     "input": [
      "plot(sim_res_ctrl[\"time\"], sim_res_ctrl[\"bldg.Vrms\"]/4800, 'c')\n",
      "plot(sim_res_ctrl_pv[\"time\"], sim_res_ctrl_pv[\"bldg.Vrms\"]/4800, 'k')"
     ],
     "language": "python",
     "metadata": {},
     "outputs": []
    },
    {
     "cell_type": "code",
     "collapsed": false,
     "input": [
      "plot(sim_res_ctrl[\"time\"], sim_res_ctrl[\"E\"], 'c')"
     ],
     "language": "python",
     "metadata": {},
     "outputs": []
    },
    {
     "cell_type": "code",
     "collapsed": false,
     "input": [
      "opt_res_energy = bui.run_optimization(sim_res, \"ElectricNetwork.BuildingMngmtOpt_E\")"
     ],
     "language": "python",
     "metadata": {},
     "outputs": []
    },
    {
     "cell_type": "code",
     "collapsed": false,
     "input": [
      "plot(opt_res_energy[\"time\"], opt_res_energy[\"P_hvac\"], \"r\")\n",
      "plot(sim_res_ctrl[\"time\"], sim_res_ctrl[\"Pctrl\"], 'c')"
     ],
     "language": "python",
     "metadata": {},
     "outputs": []
    },
    {
     "cell_type": "code",
     "collapsed": false,
     "input": [
      "print opt_res_energy[\"E\"][-1]\n",
      "print np.dot(opt_res_energy[\"P_hvac\"], opt_res_energy[\"P_hvac\"])\n",
      "print opt_res_energy[\"E\"][-1]/np.dot(opt_res_energy[\"P_hvac\"], opt_res_energy[\"P_hvac\"])"
     ],
     "language": "python",
     "metadata": {},
     "outputs": []
    },
    {
     "cell_type": "code",
     "collapsed": false,
     "input": [
      "plot(opt_res_energy[\"time\"], opt_res_energy[\"S_pow\"], 'c')\n",
      "plot(sim_res_ctrl[\"time\"], sim_res_ctrl[\"S_pow\"], 'r')\n",
      "print opt_res_energy[\"E\"][-1]\n",
      "print sim_res_ctrl[\"E\"][-1]"
     ],
     "language": "python",
     "metadata": {},
     "outputs": []
    },
    {
     "cell_type": "code",
     "collapsed": false,
     "input": [
      "opt_res_money = bui.run_optimization(sim_res, \"ElectricNetwork.BuildingMngmtOpt_Money\")"
     ],
     "language": "python",
     "metadata": {},
     "outputs": []
    },
    {
     "cell_type": "code",
     "collapsed": false,
     "input": [
      "plot(opt_res_energy[\"time\"], opt_res_energy[\"S_pow\"], 'c')\n",
      "plot(opt_res_money[\"time\"], opt_res_money[\"S_pow\"], 'r')\n",
      "plot(sim_res_ctrl[\"time\"], sim_res_ctrl[\"S_pow\"], 'g')\n",
      "print opt_res_energy[\"E\"][-1]\n",
      "print sim_res_ctrl[\"E\"][-1]"
     ],
     "language": "python",
     "metadata": {},
     "outputs": []
    },
    {
     "cell_type": "code",
     "collapsed": false,
     "input": [
      "opt_res_energy_pv = bui.run_optimization(sim_res_pv, \"ElectricNetwork.BuildingMngmtOpt_E_PV\")"
     ],
     "language": "python",
     "metadata": {},
     "outputs": []
    },
    {
     "cell_type": "code",
     "collapsed": false,
     "input": [
      "opt_res_money_pv = bui.run_optimization(sim_res_pv, \"ElectricNetwork.BuildingMngmtOpt_Money_PV\")"
     ],
     "language": "python",
     "metadata": {},
     "outputs": []
    },
    {
     "cell_type": "code",
     "collapsed": false,
     "input": [
      "bui.print_details(opt_res_money, opt_res_energy)\n",
      "bui.print_details(opt_res_money_pv, opt_res_energy_pv)"
     ],
     "language": "python",
     "metadata": {},
     "outputs": []
    },
    {
     "cell_type": "code",
     "collapsed": false,
     "input": [
      "plot(opt_res_money[\"Money\"] - opt_res_money[\"Money\"][0], 'r')\n",
      "plot(opt_res_money_pv[\"Money\"] - opt_res_money_pv[\"Money\"][0], 'r--')\n",
      "plot(opt_res_energy[\"Money\"] - opt_res_energy[\"Money\"][0], 'b')\n",
      "plot(opt_res_energy_pv[\"Money\"] - opt_res_energy_pv[\"Money\"][0], 'b--')"
     ],
     "language": "python",
     "metadata": {},
     "outputs": []
    },
    {
     "cell_type": "code",
     "collapsed": false,
     "input": [
      "plot(opt_res_money[\"E\"] - opt_res_money[\"E\"][0], 'r')\n",
      "plot(opt_res_money_pv[\"E\"] - opt_res_money_pv[\"E\"][0], 'r--')\n",
      "plot(opt_res_energy[\"E\"] - opt_res_energy[\"E\"][0], 'b')\n",
      "plot(opt_res_energy_pv[\"E\"] - opt_res_energy_pv[\"E\"][0], 'b--')"
     ],
     "language": "python",
     "metadata": {},
     "outputs": []
    },
    {
     "cell_type": "code",
     "collapsed": false,
     "input": [
      "plot(opt_res_money[\"P_el\"], 'r')\n",
      "plot(opt_res_money_pv[\"P_el\"], 'r--')\n",
      "plot(opt_res_energy[\"P_el\"], 'b')\n",
      "plot(opt_res_energy_pv[\"P_el\"], 'b--')"
     ],
     "language": "python",
     "metadata": {},
     "outputs": []
    },
    {
     "cell_type": "code",
     "collapsed": false,
     "input": [
      "plot(opt_res_money[\"P_hvac\"], 'r')\n",
      "plot(opt_res_money_pv[\"P_hvac\"], 'r--')\n",
      "plot(opt_res_energy[\"P_hvac\"], 'b')\n",
      "plot(opt_res_energy_pv[\"P_hvac\"], 'b--')"
     ],
     "language": "python",
     "metadata": {},
     "outputs": []
    },
    {
     "cell_type": "code",
     "collapsed": false,
     "input": [
      "#opt_res_energy_pv_batt = bui.run_optimization(sim_res_pv, \"ElectricNetwork.BuildingMngmtOpt_E_PV\", use_battery = True)\n",
      "opt_res_energy_pv_batt = bui.run_optimization(opt_res_energy_pv_batt, \"ElectricNetwork.BuildingMngmtOpt_E_PV\", use_battery = True)"
     ],
     "language": "python",
     "metadata": {},
     "outputs": []
    },
    {
     "cell_type": "code",
     "collapsed": false,
     "input": [
      "opt_res_money_pv_batt = bui.run_optimization(sim_res_pv, \"ElectricNetwork.BuildingMngmtOpt_Money_PV\", use_battery = True)"
     ],
     "language": "python",
     "metadata": {},
     "outputs": []
    },
    {
     "cell_type": "code",
     "collapsed": false,
     "input": [
      "plot(opt_res_energy_pv_batt[\"time\"]/3600, opt_res_energy_pv_batt[\"batt.SOC\"], 'b')\n",
      "plot([opt_res_energy_pv_batt[\"time\"][0]/3600, opt_res_energy_pv_batt[\"time\"][-1]/3600], [opt_res_energy_pv_batt[\"batt.SOC\"][0], opt_res_energy_pv_batt[\"batt.SOC\"][-1]], 'b--')\n",
      "\n",
      "plot(opt_res_money_pv_batt[\"time\"]/3600, opt_res_money_pv_batt[\"batt.SOC\"], 'k')\n",
      "plot([opt_res_money_pv_batt[\"time\"][0]/3600, opt_res_money_pv_batt[\"time\"][-1]/3600], [opt_res_money_pv_batt[\"batt.SOC\"][0], opt_res_money_pv_batt[\"batt.SOC\"][-1]], 'k--')\n",
      "plt.figure()\n",
      "plot(opt_res_energy_pv_batt[\"time\"]/3600, opt_res_energy_pv_batt[\"S_pow\"], 'b')\n",
      "plot(opt_res_money_pv_batt[\"time\"]/3600, opt_res_money_pv_batt[\"S_pow\"], 'k')\n",
      "#plot(opt_res_money[\"time\"], opt_res_money[\"S_pow\"], 'r')\n",
      "#plot(sim_res_ctrl[\"time\"], sim_res_ctrl[\"S_pow\"], 'g')\n",
      "print 1e-11*np.dot(opt_res_energy_pv_batt[\"P_batt\"], opt_res_energy_pv_batt[\"P_batt\"]), opt_res_energy_pv_batt[\"E\"][-1]\n",
      "print 1e-13*np.dot(opt_res_money_pv_batt[\"P_batt\"], opt_res_money_pv_batt[\"P_batt\"]), opt_res_money_pv_batt[\"Money\"][-1]\n",
      "print 1e-12*np.dot(opt_res_energy_pv_batt[\"P_hvac\"], opt_res_energy_pv_batt[\"P_hvac\"]), opt_res_energy_pv_batt[\"E\"][-1]\n",
      "print 1e-14*np.dot(opt_res_money_pv_batt[\"P_hvac\"], opt_res_money_pv_batt[\"P_hvac\"]), opt_res_money_pv_batt[\"Money\"][-1]"
     ],
     "language": "python",
     "metadata": {},
     "outputs": []
    },
    {
     "cell_type": "code",
     "collapsed": false,
     "input": [
      "plot(sim_res_ctrl[\"time\"], sim_res_ctrl[\"bldg.Vrms\"]/4800, 'c')\n",
      "plot(sim_res_ctrl_pv[\"time\"], sim_res_ctrl_pv[\"bldg.Vrms\"]/4800, 'k')\n",
      "\n",
      "plot(opt_res_energy[\"time\"], opt_res_energy[\"bldg.Vrms\"]/4800, 'b--')\n",
      "plot(opt_res_money[\"time\"], opt_res_money[\"bldg.Vrms\"]/4800, 'y--')\n",
      "\n",
      "plot(opt_res_energy_pv[\"time\"], opt_res_energy_pv[\"bldg.Vrms\"]/4800, 'b')\n",
      "plot(opt_res_money_pv[\"time\"], opt_res_money_pv[\"bldg.Vrms\"]/4800, 'y')\n",
      "\n",
      "plot(opt_res_money_pv_batt[\"time\"], opt_res_money_pv_batt[\"bldg.Vrms\"]/4800, 'g')\n",
      "plot(opt_res_energy_pv_batt[\"time\"], opt_res_energy_pv_batt[\"bldg.Vrms\"]/4800, 'r')"
     ],
     "language": "python",
     "metadata": {},
     "outputs": []
    },
    {
     "cell_type": "code",
     "collapsed": false,
     "input": [
      "from scipy import signal\n",
      "import matplotlib.pyplot as plt"
     ],
     "language": "python",
     "metadata": {},
     "outputs": []
    },
    {
     "cell_type": "code",
     "collapsed": false,
     "input": [
      "A = np.array([[-1.13701970e-05, 5.64289098e-06],[ 5.64289098e-07, -3.08438960e-06]])\n",
      "B = np.array([[1.15740741e-05],\n",
      "\t         [0.00000000e+00]])\n",
      "\n",
      "C = np.array([[1.0, 0.0]])\n",
      "D = np.zeros((1,1))\n",
      "\n",
      "s2 = signal.lti(A, B, C, D)\n",
      "w, mag, phase = signal.bode(s2)\n",
      "\n",
      "s1 = signal.lti([1.14], [100000, 1])\n",
      "w_1, mag_1, phase_1 = signal.bode(s1, w = w)\n",
      "\n",
      "plt.figure()\n",
      "plt.semilogx(w, mag)    # Bode magnitude plot\n",
      "plt.semilogx(w_1, mag_1)\n",
      "plt.figure()\n",
      "plt.semilogx(w, phase)  # Bode phase plot\n",
      "plt.semilogx(w_1, phase_1)\n",
      "plt.show()"
     ],
     "language": "python",
     "metadata": {},
     "outputs": []
    },
    {
     "cell_type": "code",
     "collapsed": false,
     "input": [
      "10**(mag[0]/20)"
     ],
     "language": "python",
     "metadata": {},
     "outputs": []
    },
    {
     "cell_type": "code",
     "collapsed": false,
     "input": [
      "(6.28*1e5)/100"
     ],
     "language": "python",
     "metadata": {},
     "outputs": []
    }
   ],
   "metadata": {}
  }
 ]
}