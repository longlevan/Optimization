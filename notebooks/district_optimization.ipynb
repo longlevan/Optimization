{
 "metadata": {
  "name": ""
 },
 "nbformat": 3,
 "nbformat_minor": 0,
 "worksheets": [
  {
   "cells": [
    {
     "cell_type": "code",
     "collapsed": false,
     "input": [
      "from matplotlib import pyplot as plt\n",
      "import pandas as pd\n",
      "import sys\n",
      "%matplotlib inline\n",
      "sys.path.append(\"/home/docker/data/Optimization/\")"
     ],
     "language": "python",
     "metadata": {},
     "outputs": []
    },
    {
     "cell_type": "code",
     "collapsed": false,
     "input": [
      "from district_opt import district_opt as dis"
     ],
     "language": "python",
     "metadata": {},
     "outputs": []
    },
    {
     "cell_type": "code",
     "collapsed": false,
     "input": [
      "df_case_3_A_energy = pd.read_csv(\"case_3_A_energy.csv\", index_col = 0)\n",
      "df_case_3_A_money = pd.read_csv(\"case_3_A_money.csv\", index_col = 0)\n",
      "\n",
      "df_case_3_B_energy = pd.read_csv(\"case_3_B_energy.csv\", index_col = 0)\n",
      "df_case_3_B_money = pd.read_csv(\"case_3_B_money.csv\", index_col = 0)\n",
      "\n",
      "df_case_3_C_energy = pd.read_csv(\"case_3_C_energy.csv\", index_col = 0)\n",
      "df_case_3_C_money = pd.read_csv(\"case_3_C_money.csv\", index_col = 0)"
     ],
     "language": "python",
     "metadata": {},
     "outputs": []
    },
    {
     "cell_type": "code",
     "collapsed": false,
     "input": [
      "res_dis_M = dis.run_simulation(stop_time = 24*3600*6,\n",
      "                             t_A = df_case_3_A_money.index, P_hvac_A = df_case_3_A_money[\"P_hvac\"].values, P_batt_A = df_case_3_A_money[\"batt.P\"].values,\n",
      "                             t_B = df_case_3_B_money.index, P_hvac_B = df_case_3_B_money[\"P_hvac\"].values, P_batt_B = df_case_3_B_money[\"batt.P\"].values,\n",
      "                             t_C = df_case_3_C_money.index, P_hvac_C = df_case_3_C_money[\"P_hvac\"].values, P_batt_C = df_case_3_C_money[\"batt.P\"].values)"
     ],
     "language": "python",
     "metadata": {},
     "outputs": []
    },
    {
     "cell_type": "code",
     "collapsed": false,
     "input": [
      "res_dis_E = dis.run_simulation(stop_time = 24*3600*6,\n",
      "                             t_A = df_case_3_A_energy.index, P_hvac_A = df_case_3_A_energy[\"P_hvac\"].values, P_batt_A = df_case_3_A_energy[\"batt.P\"].values,\n",
      "                             t_B = df_case_3_B_energy.index, P_hvac_B = df_case_3_B_energy[\"P_hvac\"].values, P_batt_B = df_case_3_B_energy[\"batt.P\"].values,\n",
      "                             t_C = df_case_3_C_energy.index, P_hvac_C = df_case_3_C_energy[\"P_hvac\"].values, P_batt_C = df_case_3_C_energy[\"batt.P\"].values)"
     ],
     "language": "python",
     "metadata": {},
     "outputs": []
    },
    {
     "cell_type": "code",
     "collapsed": false,
     "input": [
      "def plot_temperatures(res):\n",
      "    plt.plot(res[\"time\"]/24/3600, res[\"buiA.Tmix\"])\n",
      "    plt.plot(res[\"time\"]/24/3600, res[\"buiB.Tmix\"])\n",
      "    plt.plot(res[\"time\"]/24/3600, res[\"buiC.Tmix\"])\n",
      "    plt.plot(res[\"time\"][[0,-1]]/24/3600, [273.15+20,273.15+20], 'k')\n",
      "    plt.plot(res[\"time\"][[0,-1]]/24/3600, [273.15+24,273.15+24], 'k')\n",
      "    plt.plot(res[\"time\"]/24/3600, res[\"Tamb\"])\n",
      "    return"
     ],
     "language": "python",
     "metadata": {},
     "outputs": []
    },
    {
     "cell_type": "code",
     "collapsed": false,
     "input": [
      "plot_temperatures(res_dis_E)"
     ],
     "language": "python",
     "metadata": {},
     "outputs": []
    },
    {
     "cell_type": "code",
     "collapsed": false,
     "input": [
      "plot_temperatures(res_dis_M)"
     ],
     "language": "python",
     "metadata": {},
     "outputs": []
    },
    {
     "cell_type": "code",
     "collapsed": false,
     "input": [
      "def plot_solar_power(res):\n",
      "    plt.plot(res[\"time\"]/24/3600, res[\"buiA.pv.P\"])\n",
      "    plt.plot(res[\"time\"]/24/3600, res[\"buiB.pv.P\"])\n",
      "    plt.plot(res[\"time\"]/24/3600, res[\"buiC.pv.P\"])"
     ],
     "language": "python",
     "metadata": {},
     "outputs": []
    },
    {
     "cell_type": "code",
     "collapsed": false,
     "input": [
      "plot_solar_power(res_dis_E)"
     ],
     "language": "python",
     "metadata": {},
     "outputs": []
    },
    {
     "cell_type": "code",
     "collapsed": false,
     "input": [
      "def plot_apparent_power(res):\n",
      "    plt.plot(res[\"time\"]/24/3600, res[\"buiA.S_pow\"])\n",
      "    plt.plot(res[\"time\"]/24/3600, res[\"buiB.S_pow\"])\n",
      "    plt.plot(res[\"time\"]/24/3600, res[\"buiC.S_pow\"])\n",
      "    return"
     ],
     "language": "python",
     "metadata": {},
     "outputs": []
    },
    {
     "cell_type": "code",
     "collapsed": false,
     "input": [
      "plot_apparent_power(res_dis_E)"
     ],
     "language": "python",
     "metadata": {},
     "outputs": []
    },
    {
     "cell_type": "code",
     "collapsed": false,
     "input": [
      "plot_apparent_power(res_dis_M)"
     ],
     "language": "python",
     "metadata": {},
     "outputs": []
    },
    {
     "cell_type": "code",
     "collapsed": false,
     "input": [
      "def plot_voltages(res):\n",
      "    plt.plot(res[\"time\"]/24/3600, res[\"buiA.Vrms\"])\n",
      "    plt.plot(res[\"time\"]/24/3600, res[\"buiB.Vrms\"])\n",
      "    plt.plot(res[\"time\"]/24/3600, res[\"buiC.Vrms\"])\n",
      "    plt.plot(res[\"time\"][[0,-1]]/24/3600, [4800*0.95,4800*0.95], 'k')\n",
      "    plt.plot(res[\"time\"][[0,-1]]/24/3600, [4800*1,4800*1], 'k--')\n",
      "    plt.plot(res[\"time\"][[0,-1]]/24/3600, [4800*1.02,4800*1.02], 'k')\n",
      "    return"
     ],
     "language": "python",
     "metadata": {},
     "outputs": []
    },
    {
     "cell_type": "code",
     "collapsed": false,
     "input": [
      "plot_voltages(res_dis_E)"
     ],
     "language": "python",
     "metadata": {},
     "outputs": []
    },
    {
     "cell_type": "code",
     "collapsed": false,
     "input": [
      "plot_voltages(res_dis_M)"
     ],
     "language": "python",
     "metadata": {},
     "outputs": []
    },
    {
     "cell_type": "code",
     "collapsed": false,
     "input": [
      "opt_res_dir = dis.run_optimization(res_dis_M, stop_time = 3600*24*6, opt_problem = 'ElectricNetwork.OptimizationDistrict_Money', n_e = 96)\n",
      "#opt_res_dir = dis.run_optimization(opt_res_dir, n_e = 12)"
     ],
     "language": "python",
     "metadata": {},
     "outputs": []
    },
    {
     "cell_type": "code",
     "collapsed": false,
     "input": [
      "import matplotlib as mpl\n",
      "mpl.rc('font',family='Times New Roman', size='13')\n",
      "\n",
      "def plot_voltages_opt(res_E, res_M, res_opt_M, img_name = \"aaa.png\"):\n",
      "    fig = plt.figure()\n",
      "    ax = fig.add_subplot(111)\n",
      "    ax.plot(res_E[\"time\"]/24/3600, res_E[\"buiA.Vrms\"]/1e3,'b', alpha = 0.6, label=\"$V_{A,B,C}^E$\")\n",
      "    ax.plot(res_E[\"time\"]/24/3600, res_E[\"buiB.Vrms\"]/1e3,'b', alpha = 0.6)\n",
      "    ax.plot(res_E[\"time\"]/24/3600, res_E[\"buiC.Vrms\"]/1e3,'b', alpha = 0.6)\n",
      "    ax.plot(res_M[\"time\"]/24/3600, res_M[\"buiA.Vrms\"]/1e3,'r', alpha = 0.6, label=\"$V_{A,B,C}^M$\")\n",
      "    ax.plot(res_M[\"time\"]/24/3600, res_M[\"buiB.Vrms\"]/1e3,'r', alpha = 0.6)\n",
      "    ax.plot(res_M[\"time\"]/24/3600, res_M[\"buiC.Vrms\"]/1e3,'r', alpha = 0.6)\n",
      "    ax.plot(res_opt_M[\"time\"]/24/3600, res_opt_M[\"buiA.Vrms\"]/1e3,'g', alpha = 0.6, label=\"$V_{A,B,C}^{OPT}$\")\n",
      "    ax.plot(res_opt_M[\"time\"]/24/3600, res_opt_M[\"buiB.Vrms\"]/1e3,'g', alpha = 0.6)\n",
      "    ax.plot(res_opt_M[\"time\"]/24/3600, res_opt_M[\"buiC.Vrms\"]/1e3,'g', alpha = 0.6)\n",
      "    ax.plot(res_E[\"time\"][[0,-1]]/24/3600, [4.800*1,4.800*1], 'k--',label=\"$V_n$\")\n",
      "    ax.fill_between(res_E[\"time\"][[0,-1]]/24/3600, [4.800*1.02,4.800*1.02], [4.800*1.2,4.800*1.2], facecolor='red', alpha= 0.3, linewidth=0.0)\n",
      "    plt.xlim([0, 5])\n",
      "    plt.ylim([4.800*0.87, 4.800*1.12])\n",
      "    ax.set_xlabel('Time [days]', size= '16')\n",
      "    ax.set_ylabel('Voltage [kV]', size= '16')\n",
      "    \n",
      "    plt.tick_params(axis='both', which='major', labelsize=16)\n",
      "    plt.tick_params(axis='both', which='minor', labelsize=16)\n",
      "    plt.legend(loc=\"upper right\", ncol=4)\n",
      "    fig = plt.gcf()\n",
      "    fig.set_size_inches(9,5)\n",
      "    fig.savefig(img_name, dpi=300)\n",
      "    plt.show()\n",
      "    return\n",
      "\n",
      "plot_voltages_opt(res_dis_E, res_dis_M, opt_res_dir, \"voltage_comparison.png\")"
     ],
     "language": "python",
     "metadata": {},
     "outputs": []
    },
    {
     "cell_type": "code",
     "collapsed": false,
     "input": [
      "print \"Constraints on voltages\",\"=\"*20\n",
      "print opt_res_dir[\"buiA.Money\"][-1]\n",
      "print opt_res_dir[\"buiB.Money\"][-1]\n",
      "print opt_res_dir[\"buiC.Money\"][-1]\n",
      "print \"No constraints on voltages\",\n",
      "print \"=\"*20\n",
      "print df_case_3_A_money[\"Money\"].values[-1]\n",
      "print df_case_3_B_money[\"Money\"].values[-1]\n",
      "print df_case_3_C_money[\"Money\"].values[-1]\n",
      "print \"Difference\",\"=\"*20\n",
      "print (opt_res_dir[\"buiA.Money\"][-1] - df_case_3_A_money[\"Money\"].values[-1])/df_case_3_A_money[\"Money\"].values[-1]\n",
      "print (opt_res_dir[\"buiB.Money\"][-1] - df_case_3_B_money[\"Money\"].values[-1])/df_case_3_B_money[\"Money\"].values[-1]\n",
      "print (opt_res_dir[\"buiC.Money\"][-1] - df_case_3_C_money[\"Money\"].values[-1])/df_case_3_C_money[\"Money\"].values[-1]"
     ],
     "language": "python",
     "metadata": {},
     "outputs": []
    },
    {
     "cell_type": "code",
     "collapsed": false,
     "input": [
      "plt.plot(opt_res_dir[\"time\"]/24/3600, opt_res_dir[\"buiA.Tmix\"])\n",
      "plt.plot(opt_res_dir[\"time\"]/24/3600, opt_res_dir[\"buiB.Tmix\"])\n",
      "plt.plot(opt_res_dir[\"time\"]/24/3600, opt_res_dir[\"buiC.Tmix\"])\n",
      "plt.plot(opt_res_dir[\"time\"][[0,-1]]/24/3600, [273.15+20,273.15+20], 'k')\n",
      "plt.plot(opt_res_dir[\"time\"][[0,-1]]/24/3600, [273.15+24,273.15+24], 'k')\n",
      "plt.plot(opt_res_dir[\"time\"]/24/3600, opt_res_dir[\"Tamb\"])"
     ],
     "language": "python",
     "metadata": {},
     "outputs": []
    },
    {
     "cell_type": "code",
     "collapsed": false,
     "input": [
      "plt.plot(opt_res_dir[\"time\"]/24/3600, opt_res_dir[\"buiA.Vrms\"])\n",
      "plt.plot(opt_res_dir[\"time\"]/24/3600, opt_res_dir[\"buiB.Vrms\"])\n",
      "plt.plot(opt_res_dir[\"time\"]/24/3600, opt_res_dir[\"buiC.Vrms\"])\n",
      "plt.plot(opt_res_dir[\"time\"][[0,-1]]/24/3600, [4800*0.95,4800*0.95], 'k')\n",
      "plt.plot(opt_res_dir[\"time\"][[0,-1]]/24/3600, [4800*1.05,4800*1.05], 'k')"
     ],
     "language": "python",
     "metadata": {},
     "outputs": []
    },
    {
     "cell_type": "code",
     "collapsed": false,
     "input": [
      "plt.plot(opt_res_dir[\"time\"]/24/3600, opt_res_dir[\"buiA.batt.SOC\"])\n",
      "plt.plot(opt_res_dir[\"time\"]/24/3600, opt_res_dir[\"buiB.batt.SOC\"])\n",
      "plt.plot(opt_res_dir[\"time\"]/24/3600, opt_res_dir[\"buiC.batt.SOC\"])\n",
      "plt.plot(opt_res_dir[\"time\"][[0,-1]]/24/3600, [0.2,0.2], 'k')\n",
      "plt.plot(opt_res_dir[\"time\"][[0,-1]]/24/3600, [1.,1.], 'k')"
     ],
     "language": "python",
     "metadata": {},
     "outputs": []
    },
    {
     "cell_type": "code",
     "collapsed": false,
     "input": [
      "plt.plot(opt_res_dir[\"time\"]/24/3600, opt_res_dir[\"buiA.P_hvac\"])\n",
      "plt.plot(opt_res_dir[\"time\"]/24/3600, opt_res_dir[\"buiB.P_hvac\"])\n",
      "plt.plot(opt_res_dir[\"time\"]/24/3600, opt_res_dir[\"buiC.P_hvac\"])"
     ],
     "language": "python",
     "metadata": {},
     "outputs": []
    },
    {
     "cell_type": "code",
     "collapsed": false,
     "input": [
      "opt_res_dir = dis.run_optimization(res_dis, \"ElectricNetwork.OptimizationDistrict_Money\", n_e = 12)"
     ],
     "language": "python",
     "metadata": {},
     "outputs": []
    },
    {
     "cell_type": "code",
     "collapsed": false,
     "input": [
      "plt.plot(opt_res_dir[\"time\"]/24/3600, opt_res_dir[\"buiA.batt.SOC\"])\n",
      "plt.plot(opt_res_dir[\"time\"]/24/3600, opt_res_dir[\"buiB.batt.SOC\"])\n",
      "plt.plot(opt_res_dir[\"time\"]/24/3600, opt_res_dir[\"buiC.batt.SOC\"])\n",
      "plt.plot(opt_res_dir[\"time\"][[0,-1]]/24/3600, [0.2,0.2], 'k')\n",
      "plt.plot(opt_res_dir[\"time\"][[0,-1]]/24/3600, [1.,1.], 'k')"
     ],
     "language": "python",
     "metadata": {},
     "outputs": []
    },
    {
     "cell_type": "code",
     "collapsed": false,
     "input": [
      "plt.plot(opt_res_dir[\"time\"]/24/3600, opt_res_dir[\"buiA.P_hvac\"])\n",
      "plt.plot(opt_res_dir[\"time\"]/24/3600, opt_res_dir[\"buiB.P_hvac\"])\n",
      "plt.plot(opt_res_dir[\"time\"]/24/3600, opt_res_dir[\"buiC.P_hvac\"])"
     ],
     "language": "python",
     "metadata": {},
     "outputs": []
    },
    {
     "cell_type": "code",
     "collapsed": false,
     "input": [
      "plt.plot(opt_res_dir[\"time\"]/24/3600, opt_res_dir[\"buiA.Vrms\"])\n",
      "plt.plot(opt_res_dir[\"time\"]/24/3600, opt_res_dir[\"buiB.Vrms\"])\n",
      "plt.plot(opt_res_dir[\"time\"]/24/3600, opt_res_dir[\"buiC.Vrms\"])\n",
      "plt.plot(opt_res_dir[\"time\"][[0,-1]]/24/3600, [4800*0.95,4800*0.95], 'k')\n",
      "plt.plot(opt_res_dir[\"time\"][[0,-1]]/24/3600, [4800*1.05,4800*1.05], 'k')"
     ],
     "language": "python",
     "metadata": {},
     "outputs": []
    },
    {
     "cell_type": "code",
     "collapsed": false,
     "input": [
      "plt.plot(opt_res_dir[\"buiA.P_el\"])\n",
      "plt.plot(opt_res_dir[\"buiA.pv.P\"])\n",
      "plt.plot(opt_res_dir[\"buiB.pv.P\"])\n",
      "plt.plot(opt_res_dir[\"buiC.pv.P\"])"
     ],
     "language": "python",
     "metadata": {},
     "outputs": []
    },
    {
     "cell_type": "code",
     "collapsed": false,
     "input": [],
     "language": "python",
     "metadata": {},
     "outputs": []
    }
   ],
   "metadata": {}
  }
 ]
}