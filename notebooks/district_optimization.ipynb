{
 "metadata": {
  "name": ""
 },
 "nbformat": 3,
 "nbformat_minor": 0,
 "worksheets": [
  {
   "cells": [
    {
     "cell_type": "code",
     "collapsed": false,
     "input": [
      "import sys\n",
      "sys.path.append(\"/home/docker/Optimization/\")"
     ],
     "language": "python",
     "metadata": {},
     "outputs": []
    },
    {
     "cell_type": "code",
     "collapsed": false,
     "input": [
      "from district_opt import district_opt as dis"
     ],
     "language": "python",
     "metadata": {},
     "outputs": []
    },
    {
     "cell_type": "code",
     "collapsed": false,
     "input": [
      "sim_res = dis.run_simulation()"
     ],
     "language": "python",
     "metadata": {},
     "outputs": []
    },
    {
     "cell_type": "code",
     "collapsed": false,
     "input": [
      "dis.plot_sim_res(sim_res)"
     ],
     "language": "python",
     "metadata": {},
     "outputs": []
    },
    {
     "cell_type": "code",
     "collapsed": false,
     "input": [
      "plot(sim_res[\"time\"]/3600, sim_res[\"bui1.P_el\"])\n",
      "plot(sim_res[\"time\"]/3600, sim_res[\"bui2.P_el\"])\n",
      "plot(sim_res[\"time\"]/3600, sim_res[\"bui3.P_el\"])\n",
      "plt.figure()\n",
      "plot(sim_res[\"time\"]/3600, sim_res[\"bui1.Tmix\"])\n",
      "plot(sim_res[\"time\"]/3600, sim_res[\"bui2.Tmix\"])\n",
      "plot(sim_res[\"time\"]/3600, sim_res[\"bui3.Tmix\"])\n",
      "plt.figure()\n",
      "plot(sim_res[\"Money\"])\n"
     ],
     "language": "python",
     "metadata": {},
     "outputs": []
    },
    {
     "cell_type": "code",
     "collapsed": false,
     "input": [
      "opt_res_E = dis.run_optimization(sim_res)"
     ],
     "language": "python",
     "metadata": {},
     "outputs": []
    },
    {
     "cell_type": "code",
     "collapsed": false,
     "input": [],
     "language": "python",
     "metadata": {},
     "outputs": []
    }
   ],
   "metadata": {}
  }
 ]
}